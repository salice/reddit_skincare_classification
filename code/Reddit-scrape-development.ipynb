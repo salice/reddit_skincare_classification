{
 "cells": [
  {
   "cell_type": "markdown",
   "metadata": {},
   "source": [
    "## 1: Reddit Scrape"
   ]
  },
  {
   "cell_type": "markdown",
   "metadata": {},
   "source": [
    "### Problem Statement:\n",
    "I am using posts from two skincare subreddits (r/AsianBeauty and r/SkincareAddiction) in order to learn the skin concerns of two different groups of customers and what products/ingredients they are using to treat their issues to recommend to Sephora products and brands they should look into selling.\n",
    "___"
   ]
  },
  {
   "cell_type": "code",
   "execution_count": 1,
   "metadata": {},
   "outputs": [],
   "source": [
    "import numpy as np\n",
    "import pandas as pdz\n",
    "import matplotlib.pyplot as plt\n",
    "import seaborn as sns\n",
    "\n",
    "import requests, json, time,datetime, sys, os, datetime\n",
    "import praw"
   ]
  },
  {
   "cell_type": "markdown",
   "metadata": {},
   "source": [
    "The following function connects to the Reddit API, pulls data from 2 subreddits, then outputs the results to a folder containing 2 csv files, one for each subreddit"
   ]
  },
  {
   "cell_type": "code",
   "execution_count": 2,
   "metadata": {},
   "outputs": [],
   "source": [
    "#function to connect and create the submission lists from 2 subreddits\n",
    "def connect_and_subreddits(sub1, sub2):\n",
    "    #start time counter to see how long it runs\n",
    "    start_time = time.time()\n",
    "    #connect to api\n",
    "    \n",
    "    creds_file = open(\"../creds.json\", \"r\")\n",
    "    reddit_creds = json.loads(creds_file.read())\n",
    "    reddit = praw.Reddit(\n",
    "    client_id=reddit_creds[\"id\"],\n",
    "    client_secret=reddit_creds[\"secret\"],\n",
    "    username=reddit_creds[\"user\"],\n",
    "    password=reddit_creds[\"pass\"],\n",
    "    user_agent=\"dsi\")\n",
    "    \n",
    "    #check connection just in case\n",
    "    \n",
    "    if reddit.read_only == False:\n",
    "        subreddit1 = reddit.subreddit(str(sub1))\n",
    "        sub1_list = [i for i in subreddit1.new(limit=1000)]\n",
    "        subreddit2 = reddit.subreddit(str(sub2))\n",
    "        sub2_list = [j for j in subreddit2.new(limit=1000)]\n",
    "        \n",
    "        #build list of dictionaries\n",
    "        \n",
    "        sub1_outer = []\n",
    "        for post in sub1_list:\n",
    "            sub1_inner = {}\n",
    "            sub1_inner[\"title\"] = post.title\n",
    "            sub1_inner[\"post\"] = post.selftext\n",
    "            sub1_inner[\"time_utc\"] = post.created_utc\n",
    "            sub1_inner[\"upvote\"] = post.upvote_ratio\n",
    "            sub1_inner[\"num_comments\"] = post.num_comments\n",
    "            \n",
    "            sub1_outer.append(sub1_inner)\n",
    "            \n",
    "        sub1_df = pd.DataFrame(sub1_outer)\n",
    "        \n",
    "        sub2_outer = []\n",
    "        for post in sub2_list:\n",
    "            sub2_inner = {}\n",
    "            sub2_inner[\"title\"] = post.title\n",
    "            sub2_inner[\"post\"] = post.selftext\n",
    "            sub2_inner[\"time_utc\"] = post.created_utc\n",
    "            sub2_inner[\"upvote\"] = post.upvote_ratio\n",
    "            sub2_inner[\"num_comments\"] = post.num_comments\n",
    "            \n",
    "            sub2_outer.append(sub2_inner)\n",
    "            \n",
    "        sub2_df = pd.DataFrame(sub2_outer)\n",
    "        \n",
    "        #create folder using os and toss csvs in them\n",
    "        time_for_file = str(time.localtime().tm_hour)+\"-\"+str(time.localtime().tm_mon)+\"-\"+str(time.localtime().tm_mday)\n",
    "        os.mkdir(\"../data/scrape\"+time_for_file)\n",
    "        \n",
    "        sub1_df.to_csv(\"../data/scrape\"+time_for_file+\"/asianbeauty.csv\", index=False)\n",
    "        sub2_df.to_csv(\"../data/scrape\"+time_for_file+\"/skincareaddiction.csv\", index=False)\n",
    "        end_time = time.time()\n",
    "        elapsed_time = (end_time - start_time) / 60\n",
    "        print(f\"Done! it took {elapsed_time} minutes\")\n",
    "    else:\n",
    "        return \"Connection Issue\""
   ]
  },
  {
   "cell_type": "code",
   "execution_count": null,
   "metadata": {},
   "outputs": [],
   "source": [
    "connect_and_subreddits(sub1=\"AsianBeauty\", sub2=\"SkincareAddiction\")\n"
   ]
  },
  {
   "cell_type": "markdown",
   "metadata": {},
   "source": [
    "**What follows was used to build the function above**"
   ]
  },
  {
   "cell_type": "code",
   "execution_count": 5,
   "metadata": {},
   "outputs": [
    {
     "data": {
      "text/plain": [
       "False"
      ]
     },
     "execution_count": 5,
     "metadata": {},
     "output_type": "execute_result"
    }
   ],
   "source": [
    "reddit.read_only"
   ]
  },
  {
   "cell_type": "code",
   "execution_count": 6,
   "metadata": {},
   "outputs": [],
   "source": [
    "a_beauty_sub = reddit.subreddit(\"AsianBeauty\")\n",
    "a_beauty = [i for i in a_beauty_sub.new(limit=1000)]"
   ]
  },
  {
   "cell_type": "code",
   "execution_count": 7,
   "metadata": {},
   "outputs": [
    {
     "data": {
      "text/plain": [
       "991"
      ]
     },
     "execution_count": 7,
     "metadata": {},
     "output_type": "execute_result"
    }
   ],
   "source": [
    "len(a_beauty)"
   ]
  },
  {
   "cell_type": "code",
   "execution_count": 8,
   "metadata": {},
   "outputs": [],
   "source": [
    "skin_sub = reddit.subreddit(\"SkincareAddiction\")\n",
    "skincare = [i for i in skin_sub.new(limit=1000)]"
   ]
  },
  {
   "cell_type": "code",
   "execution_count": 9,
   "metadata": {},
   "outputs": [
    {
     "data": {
      "text/plain": [
       "997"
      ]
     },
     "execution_count": 9,
     "metadata": {},
     "output_type": "execute_result"
    }
   ],
   "source": [
    "len(skincare)"
   ]
  },
  {
   "cell_type": "code",
   "execution_count": 11,
   "metadata": {},
   "outputs": [],
   "source": [
    "first_a_beauty = a_beauty[0]"
   ]
  },
  {
   "cell_type": "code",
   "execution_count": 12,
   "metadata": {},
   "outputs": [
    {
     "data": {
      "text/plain": [
       "Redditor(name='diversedistinction')"
      ]
     },
     "execution_count": 12,
     "metadata": {},
     "output_type": "execute_result"
    }
   ],
   "source": [
    "first_a_beauty.author"
   ]
  },
  {
   "cell_type": "code",
   "execution_count": 13,
   "metadata": {},
   "outputs": [],
   "source": [
    "#a_beauty_sub.description"
   ]
  },
  {
   "cell_type": "code",
   "execution_count": 15,
   "metadata": {},
   "outputs": [
    {
     "data": {
      "text/plain": [
       "'For those times an expensive product actually does what it claims it will do'"
      ]
     },
     "execution_count": 15,
     "metadata": {},
     "output_type": "execute_result"
    }
   ],
   "source": [
    "first_a_beauty.title"
   ]
  },
  {
   "cell_type": "code",
   "execution_count": 21,
   "metadata": {},
   "outputs": [],
   "source": [
    "first_comments = first_a_beauty.comments"
   ]
  },
  {
   "cell_type": "code",
   "execution_count": 24,
   "metadata": {},
   "outputs": [
    {
     "data": {
      "text/plain": [
       "0"
      ]
     },
     "execution_count": 24,
     "metadata": {},
     "output_type": "execute_result"
    }
   ],
   "source": [
    "first_a_beauty.num_comments"
   ]
  },
  {
   "cell_type": "markdown",
   "metadata": {},
   "source": [
    "### features to pull out: title, selftext (actual post), created_utc, upvote_ratio, num_comments, comments(commentforest) try and see if useful?"
   ]
  },
  {
   "cell_type": "code",
   "execution_count": 25,
   "metadata": {},
   "outputs": [],
   "source": [
    "#testing on 5 values\n",
    "test = a_beauty[:5]"
   ]
  },
  {
   "cell_type": "code",
   "execution_count": 49,
   "metadata": {},
   "outputs": [],
   "source": [
    "output = []\n",
    "for post in a_beauty[:50]:\n",
    "    inner = {}\n",
    "    inner[\"title\"] = post.title\n",
    "    inner[\"post\"] = post.selftext\n",
    "    inner[\"time_utc\"] = post.created_utc\n",
    "    inner[\"upvote\"] = post.upvote_ratio\n",
    "    inner[\"num_comments\"] = post.num_comments\n",
    "    inner[\"comment_forest\"] = post.comments\n",
    "    output.append(inner)\n",
    "#output\n",
    "df_test = pd.DataFrame(output)"
   ]
  },
  {
   "cell_type": "code",
   "execution_count": 35,
   "metadata": {},
   "outputs": [
    {
     "data": {
      "text/plain": [
       "2019"
      ]
     },
     "execution_count": 35,
     "metadata": {},
     "output_type": "execute_result"
    }
   ],
   "source": [
    "time.localtime().tm_year"
   ]
  },
  {
   "cell_type": "code",
   "execution_count": 37,
   "metadata": {},
   "outputs": [
    {
     "data": {
      "text/plain": [
       "10"
      ]
     },
     "execution_count": 37,
     "metadata": {},
     "output_type": "execute_result"
    }
   ],
   "source": [
    "time.localtime().tm_mon"
   ]
  },
  {
   "cell_type": "code",
   "execution_count": 43,
   "metadata": {},
   "outputs": [
    {
     "ename": "AttributeError",
     "evalue": "module 'datetime' has no attribute 'now'",
     "output_type": "error",
     "traceback": [
      "\u001b[0;31m---------------------------------------------------------------------------\u001b[0m",
      "\u001b[0;31mAttributeError\u001b[0m                            Traceback (most recent call last)",
      "\u001b[0;32m<ipython-input-43-303321cc44a3>\u001b[0m in \u001b[0;36m<module>\u001b[0;34m\u001b[0m\n\u001b[0;32m----> 1\u001b[0;31m \u001b[0mdatetime\u001b[0m\u001b[0;34m.\u001b[0m\u001b[0mnow\u001b[0m\u001b[0;34m(\u001b[0m\u001b[0;34m)\u001b[0m\u001b[0;34m\u001b[0m\u001b[0m\n\u001b[0m",
      "\u001b[0;31mAttributeError\u001b[0m: module 'datetime' has no attribute 'now'"
     ]
    }
   ],
   "source": [
    "datetime.now()"
   ]
  },
  {
   "cell_type": "code",
   "execution_count": 47,
   "metadata": {},
   "outputs": [
    {
     "data": {
      "text/plain": [
       "time.struct_time(tm_year=2019, tm_mon=10, tm_mday=9, tm_hour=22, tm_min=25, tm_sec=3, tm_wday=2, tm_yday=282, tm_isdst=1)"
      ]
     },
     "execution_count": 47,
     "metadata": {},
     "output_type": "execute_result"
    }
   ],
   "source": [
    "time.localtime()"
   ]
  },
  {
   "cell_type": "code",
   "execution_count": 48,
   "metadata": {},
   "outputs": [
    {
     "data": {
      "text/plain": [
       "'22-10-9'"
      ]
     },
     "execution_count": 48,
     "metadata": {},
     "output_type": "execute_result"
    }
   ],
   "source": [
    "str(time.localtime().tm_hour)+\"-\"+str(time.localtime().tm_mon)+\"-\"+str(time.localtime().tm_mday)"
   ]
  },
  {
   "cell_type": "code",
   "execution_count": 50,
   "metadata": {},
   "outputs": [],
   "source": [
    "os.mkdir(\"test\")\n",
    "df_test.to_csv(\"test/testfile.csv\", index=False)"
   ]
  },
  {
   "cell_type": "code",
   "execution_count": 59,
   "metadata": {},
   "outputs": [],
   "source": [
    "time_for_file = str(time.localtime().tm_hour)+\"-\"+str(time.localtime().tm_mon)+\"-\"+str(time.localtime().tm_mday)\n",
    "df_test.to_csv(\"scrape\"+time_for_file+\"/test.csv\", index=False)"
   ]
  },
  {
   "cell_type": "code",
   "execution_count": 64,
   "metadata": {},
   "outputs": [
    {
     "ename": "TypeError",
     "evalue": "'datetime.datetime' object is not subscriptable",
     "output_type": "error",
     "traceback": [
      "\u001b[0;31m---------------------------------------------------------------------------\u001b[0m",
      "\u001b[0;31mTypeError\u001b[0m                                 Traceback (most recent call last)",
      "\u001b[0;32m<ipython-input-64-2354e5c86126>\u001b[0m in \u001b[0;36m<module>\u001b[0;34m\u001b[0m\n\u001b[0;32m----> 1\u001b[0;31m \u001b[0mdatetime\u001b[0m\u001b[0;34m.\u001b[0m\u001b[0mdatetime\u001b[0m\u001b[0;34m.\u001b[0m\u001b[0mnow\u001b[0m\u001b[0;34m(\u001b[0m\u001b[0;34m)\u001b[0m\u001b[0;34m[\u001b[0m\u001b[0;34m-\u001b[0m\u001b[0;36m1\u001b[0m\u001b[0;34m]\u001b[0m\u001b[0;34m\u001b[0m\u001b[0m\n\u001b[0m",
      "\u001b[0;31mTypeError\u001b[0m: 'datetime.datetime' object is not subscriptable"
     ]
    }
   ],
   "source": []
  },
  {
   "cell_type": "code",
   "execution_count": null,
   "metadata": {},
   "outputs": [],
   "source": []
  }
 ],
 "metadata": {
  "kernelspec": {
   "display_name": "Python 3",
   "language": "python",
   "name": "python3"
  },
  "language_info": {
   "codemirror_mode": {
    "name": "ipython",
    "version": 3
   },
   "file_extension": ".py",
   "mimetype": "text/x-python",
   "name": "python",
   "nbconvert_exporter": "python",
   "pygments_lexer": "ipython3",
   "version": "3.7.3"
  }
 },
 "nbformat": 4,
 "nbformat_minor": 2
}
